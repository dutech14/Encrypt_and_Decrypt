{
  "cells": [
    {
      "cell_type": "markdown",
      "metadata": {
        "id": "view-in-github",
        "colab_type": "text"
      },
      "source": [
        "<a href=\"https://colab.research.google.com/github/dutech14/Encrypt_and_Decrypt/blob/main/myfirstBigdata.ipynb\" target=\"_parent\"><img src=\"https://colab.research.google.com/assets/colab-badge.svg\" alt=\"Open In Colab\"/></a>"
      ]
    },
    {
      "cell_type": "code",
      "source": [
        "!apt-get install openjdk-8-jdk-headless -qq > /dev/null\n",
        "!wget -q http://archive.apache.org/dist/spark/spark-3.5.1/spark-3.5.1-bin-hadoop3.tgz\n",
        "!tar xf spark-3.5.1-bin-hadoop3.tgz\n",
        "!pip install -q findspark"
      ],
      "metadata": {
        "id": "_DcEEn9sBoVx"
      },
      "execution_count": 8,
      "outputs": []
    },
    {
      "cell_type": "code",
      "source": [
        "import os\n",
        "os.environ[\"JAVA_HOME\"] = \"/usr/lib/jvm/java-8-openjdk-amd64\"\n",
        "os.environ[\"SPARK_HOME\"] = \"/content/spark-3.5.1-bin-hadoop3\""
      ],
      "metadata": {
        "id": "QTKKp17IB1PG"
      },
      "execution_count": 9,
      "outputs": []
    },
    {
      "cell_type": "code",
      "execution_count": 10,
      "metadata": {
        "id": "JepaigASBlQM"
      },
      "outputs": [],
      "source": [
        "import findspark\n",
        "findspark.init()"
      ]
    },
    {
      "cell_type": "code",
      "execution_count": 11,
      "metadata": {
        "colab": {
          "base_uri": "https://localhost:8080/"
        },
        "id": "4FrZhm_pBlQO",
        "outputId": "588ffc3a-5245-4edf-d528-6b9ce5277178"
      },
      "outputs": [
        {
          "output_type": "stream",
          "name": "stdout",
          "text": [
            "+-----+\n",
            "|Hello|\n",
            "+-----+\n",
            "|spark|\n",
            "+-----+\n",
            "\n"
          ]
        }
      ],
      "source": [
        "import pyspark\n",
        "from pyspark.sql import SparkSession\n",
        "spark = SparkSession.builder.getOrCreate()\n",
        "df = spark.sql(\"select 'spark' as Hello\")\n",
        "df.show()\n"
      ]
    },
    {
      "cell_type": "code",
      "execution_count": 12,
      "metadata": {
        "colab": {
          "base_uri": "https://localhost:8080/"
        },
        "id": "szEdpI9kBlQO",
        "outputId": "bc1d965d-1148-4da7-d63e-173a31cf17ee"
      },
      "outputs": [
        {
          "output_type": "stream",
          "name": "stdout",
          "text": [
            "+------+------+------+---+-------+-------+\n",
            "|   _c0|   _c1|   _c2|_c3|    _c4|    _c5|\n",
            "+------+------+------+---+-------+-------+\n",
            "|Number|  City|Gender|Age| Income|Illness|\n",
            "|     1|Dallas|  Male| 41|40367.0|     No|\n",
            "|     2|Dallas|  Male| 54|45084.0|     No|\n",
            "|     3|Dallas|  Male| 42|52483.0|     No|\n",
            "|     4|Dallas|  Male| 40|40941.0|     No|\n",
            "|     5|Dallas|  Male| 46|50289.0|     No|\n",
            "|     6|Dallas|Female| 36|50786.0|     No|\n",
            "|     7|Dallas|Female| 32|33155.0|     No|\n",
            "|     8|Dallas|  Male| 39|30914.0|     No|\n",
            "|     9|Dallas|  Male| 51|68667.0|     No|\n",
            "|    10|Dallas|Female| 30|50082.0|     No|\n",
            "|    11|Dallas|Female| 48|41524.0|    Yes|\n",
            "|    12|Dallas|  Male| 47|54777.0|     No|\n",
            "|    13|Dallas|  Male| 46|62749.0|     No|\n",
            "|    14|Dallas|Female| 42|50894.0|     No|\n",
            "|    15|Dallas|Female| 61|38429.0|     No|\n",
            "|    16|Dallas|  Male| 43|34074.0|     No|\n",
            "|    17|Dallas|  Male| 27|50398.0|     No|\n",
            "|    18|Dallas|  Male| 38|46373.0|    Yes|\n",
            "|    19|Dallas|  Male| 47|51137.0|     No|\n",
            "+------+------+------+---+-------+-------+\n",
            "only showing top 20 rows\n",
            "\n"
          ]
        }
      ],
      "source": [
        "df= spark.read.csv(\"toy_dataset.csv\")\n",
        "df.show()"
      ]
    },
    {
      "cell_type": "code",
      "execution_count": 13,
      "metadata": {
        "colab": {
          "base_uri": "https://localhost:8080/"
        },
        "id": "hViQ3S4SBlQP",
        "outputId": "94cd0802-8603-4a9d-9768-81a6cb26aa4c"
      },
      "outputs": [
        {
          "output_type": "stream",
          "name": "stdout",
          "text": [
            "root\n",
            " |-- _c0: string (nullable = true)\n",
            " |-- _c1: string (nullable = true)\n",
            " |-- _c2: string (nullable = true)\n",
            " |-- _c3: string (nullable = true)\n",
            " |-- _c4: string (nullable = true)\n",
            " |-- _c5: string (nullable = true)\n",
            "\n"
          ]
        }
      ],
      "source": [
        "df.printSchema()"
      ]
    },
    {
      "cell_type": "code",
      "execution_count": 14,
      "metadata": {
        "id": "T9BRQhd-BlQP"
      },
      "outputs": [],
      "source": [
        "df= spark.read.csv(\"toy_dataset.csv\",inferSchema=True,header=True)"
      ]
    },
    {
      "cell_type": "code",
      "execution_count": 15,
      "metadata": {
        "colab": {
          "base_uri": "https://localhost:8080/"
        },
        "id": "yNt76nfNBlQP",
        "outputId": "28a2648e-1d17-4ef3-9c8c-dc5b9ebcde79"
      },
      "outputs": [
        {
          "output_type": "stream",
          "name": "stdout",
          "text": [
            "root\n",
            " |-- Number: integer (nullable = true)\n",
            " |-- City: string (nullable = true)\n",
            " |-- Gender: string (nullable = true)\n",
            " |-- Age: integer (nullable = true)\n",
            " |-- Income: double (nullable = true)\n",
            " |-- Illness: string (nullable = true)\n",
            "\n"
          ]
        }
      ],
      "source": [
        "df.printSchema()"
      ]
    },
    {
      "cell_type": "code",
      "execution_count": 16,
      "metadata": {
        "id": "CYhZfGNDBlQP"
      },
      "outputs": [],
      "source": [
        "df= spark.read.options(inferSchema='True',header='True').csv(\"toy_dataset.csv\")"
      ]
    },
    {
      "cell_type": "code",
      "execution_count": 17,
      "metadata": {
        "colab": {
          "base_uri": "https://localhost:8080/"
        },
        "id": "mXo6_xFWBlQP",
        "outputId": "caefc8e3-4efa-4844-e88b-a25cb2ae845a"
      },
      "outputs": [
        {
          "output_type": "stream",
          "name": "stdout",
          "text": [
            "+------+------+------+---+-------+-------+\n",
            "|Number|  City|Gender|Age| Income|Illness|\n",
            "+------+------+------+---+-------+-------+\n",
            "|     1|Dallas|  Male| 41|40367.0|     No|\n",
            "|     2|Dallas|  Male| 54|45084.0|     No|\n",
            "|     3|Dallas|  Male| 42|52483.0|     No|\n",
            "|     4|Dallas|  Male| 40|40941.0|     No|\n",
            "|     5|Dallas|  Male| 46|50289.0|     No|\n",
            "|     6|Dallas|Female| 36|50786.0|     No|\n",
            "|     7|Dallas|Female| 32|33155.0|     No|\n",
            "|     8|Dallas|  Male| 39|30914.0|     No|\n",
            "|     9|Dallas|  Male| 51|68667.0|     No|\n",
            "|    10|Dallas|Female| 30|50082.0|     No|\n",
            "|    11|Dallas|Female| 48|41524.0|    Yes|\n",
            "|    12|Dallas|  Male| 47|54777.0|     No|\n",
            "|    13|Dallas|  Male| 46|62749.0|     No|\n",
            "|    14|Dallas|Female| 42|50894.0|     No|\n",
            "|    15|Dallas|Female| 61|38429.0|     No|\n",
            "|    16|Dallas|  Male| 43|34074.0|     No|\n",
            "|    17|Dallas|  Male| 27|50398.0|     No|\n",
            "|    18|Dallas|  Male| 38|46373.0|    Yes|\n",
            "|    19|Dallas|  Male| 47|51137.0|     No|\n",
            "|    20|Dallas|Female| 35|23688.0|     No|\n",
            "+------+------+------+---+-------+-------+\n",
            "only showing top 20 rows\n",
            "\n"
          ]
        }
      ],
      "source": [
        "df.show()"
      ]
    },
    {
      "cell_type": "code",
      "execution_count": 18,
      "metadata": {
        "colab": {
          "base_uri": "https://localhost:8080/"
        },
        "id": "zTGt6dAHBlQQ",
        "outputId": "6c80606a-5167-4f51-90e9-85466c086647"
      },
      "outputs": [
        {
          "output_type": "execute_result",
          "data": {
            "text/plain": [
              "150000"
            ]
          },
          "metadata": {},
          "execution_count": 18
        }
      ],
      "source": [
        "df.count()"
      ]
    },
    {
      "cell_type": "code",
      "execution_count": 19,
      "metadata": {
        "colab": {
          "base_uri": "https://localhost:8080/"
        },
        "id": "jX26ocQZBlQQ",
        "outputId": "3fc25e93-d2fe-4b9c-f5be-4bec640ce399"
      },
      "outputs": [
        {
          "output_type": "execute_result",
          "data": {
            "text/plain": [
              "83800"
            ]
          },
          "metadata": {},
          "execution_count": 19
        }
      ],
      "source": [
        "df.where(df.Gender == \"Male\").count()"
      ]
    },
    {
      "cell_type": "code",
      "execution_count": 20,
      "metadata": {
        "id": "bMEZ8gmyBlQQ"
      },
      "outputs": [],
      "source": [
        "totalentries = df.count()"
      ]
    },
    {
      "cell_type": "code",
      "execution_count": 21,
      "metadata": {
        "colab": {
          "base_uri": "https://localhost:8080/"
        },
        "id": "ntKvwnCvBlQQ",
        "outputId": "f372fd3f-497b-4e95-bec8-74728bf8f1d1"
      },
      "outputs": [
        {
          "output_type": "stream",
          "name": "stdout",
          "text": [
            "150000\n"
          ]
        }
      ],
      "source": [
        "print(totalentries)"
      ]
    },
    {
      "cell_type": "code",
      "execution_count": 22,
      "metadata": {
        "colab": {
          "base_uri": "https://localhost:8080/"
        },
        "id": "PDOgZsXFBlQQ",
        "outputId": "e5200832-4e0e-49fa-918a-8930cce9b8b4"
      },
      "outputs": [
        {
          "output_type": "stream",
          "name": "stdout",
          "text": [
            "+------+------+------+---+-------+-------+\n",
            "|Number|  City|Gender|Age| Income|Illness|\n",
            "+------+------+------+---+-------+-------+\n",
            "|    39|Dallas|Female| 61|39881.0|    Yes|\n",
            "|    82|Dallas|  Male| 46|27092.0|    Yes|\n",
            "|   105|Dallas|Female| 56|40122.0|     No|\n",
            "|   174|Dallas|Female| 44|39808.0|     No|\n",
            "|   230|Dallas|  Male| 61|65721.0|     No|\n",
            "|   259|Dallas|  Male| 54|51490.0|     No|\n",
            "|   363|Dallas|Female| 33|31781.0|     No|\n",
            "|   415|Dallas|  Male| 35|55379.0|     No|\n",
            "|   493|Dallas|Female| 32|29352.0|     No|\n",
            "|   527|Dallas|  Male| 62|63050.0|     No|\n",
            "|   691|Dallas|  Male| 55|50728.0|     No|\n",
            "|   706|Dallas|  Male| 44|52407.0|    Yes|\n",
            "|   849|Dallas|Female| 31|49693.0|     No|\n",
            "|   981|Dallas|Female| 62|29060.0|    Yes|\n",
            "|  1040|Dallas|  Male| 58|41653.0|    Yes|\n",
            "|  1213|Dallas|  Male| 36|51756.0|     No|\n",
            "|  1225|Dallas|  Male| 43|43054.0|     No|\n",
            "|  1405|Dallas|  Male| 46|52693.0|     No|\n",
            "|  1508|Dallas|  Male| 28|52455.0|     No|\n",
            "|  1570|Dallas|  Male| 57|47954.0|     No|\n",
            "+------+------+------+---+-------+-------+\n",
            "only showing top 20 rows\n",
            "\n"
          ]
        }
      ],
      "source": [
        "df2= df.sample(0.01)\n",
        "df2.show()"
      ]
    },
    {
      "cell_type": "code",
      "execution_count": 23,
      "metadata": {
        "colab": {
          "base_uri": "https://localhost:8080/"
        },
        "id": "IDZkrN3oBlQR",
        "outputId": "37e01ef0-d496-43ae-9393-b85d71f3dbf1"
      },
      "outputs": [
        {
          "output_type": "stream",
          "name": "stdout",
          "text": [
            "+---------------+-----+\n",
            "|           City|count|\n",
            "+---------------+-----+\n",
            "|         Dallas|19707|\n",
            "|    Los Angeles|32173|\n",
            "|  New York City|50307|\n",
            "|Washington D.C.| 8120|\n",
            "|  Mountain View|14219|\n",
            "|         Boston| 8301|\n",
            "|      San Diego| 4881|\n",
            "|         Austin|12292|\n",
            "+---------------+-----+\n",
            "\n"
          ]
        }
      ],
      "source": [
        "df.groupBy(\"City\").count().show()"
      ]
    },
    {
      "cell_type": "code",
      "execution_count": 24,
      "metadata": {
        "id": "tUV_Eyk3BlQR"
      },
      "outputs": [],
      "source": [
        "numcities = df.groupBy(\"CIty\").count().count()\n"
      ]
    },
    {
      "cell_type": "code",
      "execution_count": 33,
      "metadata": {
        "id": "bFsouXoJBlQR"
      },
      "outputs": [],
      "source": [
        "illpeople= df2.where(df.Illness ==\"Yes\").count()\n",
        "Notillpeople= df2.where(df.Illness ==\"No\").count()\n"
      ]
    },
    {
      "cell_type": "code",
      "execution_count": 26,
      "metadata": {
        "colab": {
          "base_uri": "https://localhost:8080/"
        },
        "id": "gJS3BoXpBlQR",
        "outputId": "685290f6-fd49-49e7-fb49-2261ea8c5e2a"
      },
      "outputs": [
        {
          "output_type": "stream",
          "name": "stdout",
          "text": [
            "People with illness :137861\n",
            "People with No illness :137861\n"
          ]
        }
      ],
      "source": [
        "print(\"People with illness :\" + str(Notillpeople))\n",
        "print(\"People with No illness :\" + str(Notillpeople))\n"
      ]
    },
    {
      "cell_type": "code",
      "execution_count": 34,
      "metadata": {
        "colab": {
          "base_uri": "https://localhost:8080/"
        },
        "id": "I-0lFX4EBlQR",
        "outputId": "0a3d61d6-d49f-4942-94e4-d7f274f03901"
      },
      "outputs": [
        {
          "output_type": "stream",
          "name": "stdout",
          "text": [
            "+-------+-----+\n",
            "|illness|count|\n",
            "+-------+-----+\n",
            "|     No|    1|\n",
            "|    Yes|    1|\n",
            "+-------+-----+\n",
            "\n"
          ]
        }
      ],
      "source": [
        "df2 = df.groupBy('illness').count()\n",
        "df2.show()\n"
      ]
    },
    {
      "cell_type": "code",
      "execution_count": 39,
      "metadata": {
        "id": "44SJsp8bBlQR"
      },
      "outputs": [],
      "source": [
        "rows = df2.select(\"count\").collect()"
      ]
    },
    {
      "cell_type": "code",
      "execution_count": 38,
      "metadata": {
        "id": "dG8Oy2bHBlQS"
      },
      "outputs": [],
      "source": [
        "rows= df2.select(\"count\").collect()"
      ]
    },
    {
      "cell_type": "code",
      "execution_count": 40,
      "metadata": {
        "colab": {
          "base_uri": "https://localhost:8080/"
        },
        "id": "aSRZQEHNBlQS",
        "outputId": "baf0af32-f45c-4af5-92ea-80c7d3789526"
      },
      "outputs": [
        {
          "output_type": "execute_result",
          "data": {
            "text/plain": [
              "Row(count=137861)"
            ]
          },
          "metadata": {},
          "execution_count": 40
        }
      ],
      "source": [
        "rows[0]"
      ]
    },
    {
      "cell_type": "code",
      "execution_count": 41,
      "metadata": {
        "colab": {
          "base_uri": "https://localhost:8080/"
        },
        "id": "AOPZoKSlBlQS",
        "outputId": "ea02ec16-2904-46dc-93fa-64a2bfbc903a"
      },
      "outputs": [
        {
          "output_type": "stream",
          "name": "stdout",
          "text": [
            "<class 'pyspark.sql.types.Row'>\n"
          ]
        }
      ],
      "source": [
        "print(type(rows[0]))"
      ]
    },
    {
      "cell_type": "code",
      "execution_count": 42,
      "metadata": {
        "colab": {
          "base_uri": "https://localhost:8080/"
        },
        "id": "eE5dQNBiBlQS",
        "outputId": "3b1819e6-cd4a-4a72-8e8b-dac145c44191"
      },
      "outputs": [
        {
          "output_type": "stream",
          "name": "stdout",
          "text": [
            "<class 'int'>\n",
            "137861\n"
          ]
        }
      ],
      "source": [
        "value =rows[0][0]\n",
        "print(type(value))\n",
        "print(value)"
      ]
    },
    {
      "cell_type": "code",
      "execution_count": 43,
      "metadata": {
        "colab": {
          "base_uri": "https://localhost:8080/"
        },
        "id": "z-eZwN9FBlQS",
        "outputId": "44af7a68-7963-455b-ecea-e0a639c985e7"
      },
      "outputs": [
        {
          "output_type": "stream",
          "name": "stdout",
          "text": [
            "<class 'int'>\n",
            "12139\n"
          ]
        }
      ],
      "source": [
        "value =rows[1][0]\n",
        "print(type(value))\n",
        "print(value)"
      ]
    },
    {
      "cell_type": "code",
      "execution_count": 44,
      "metadata": {
        "colab": {
          "base_uri": "https://localhost:8080/",
          "height": 297
        },
        "id": "w0qSBpTGBlQS",
        "outputId": "363b943c-3884-4856-de20-e3321fcbe946"
      },
      "outputs": [
        {
          "output_type": "error",
          "ename": "IndexError",
          "evalue": "tuple index out of range",
          "traceback": [
            "\u001b[0;31m---------------------------------------------------------------------------\u001b[0m",
            "\u001b[0;31mIndexError\u001b[0m                                Traceback (most recent call last)",
            "\u001b[0;32m<ipython-input-44-e4a2f1843f6f>\u001b[0m in \u001b[0;36m<cell line: 1>\u001b[0;34m()\u001b[0m\n\u001b[0;32m----> 1\u001b[0;31m \u001b[0mvalue\u001b[0m \u001b[0;34m=\u001b[0m\u001b[0mrows\u001b[0m\u001b[0;34m[\u001b[0m\u001b[0;36m1\u001b[0m\u001b[0;34m]\u001b[0m\u001b[0;34m[\u001b[0m\u001b[0;36m1\u001b[0m\u001b[0;34m]\u001b[0m\u001b[0;34m\u001b[0m\u001b[0;34m\u001b[0m\u001b[0m\n\u001b[0m\u001b[1;32m      2\u001b[0m \u001b[0mprint\u001b[0m\u001b[0;34m(\u001b[0m\u001b[0mtype\u001b[0m\u001b[0;34m(\u001b[0m\u001b[0mvalue\u001b[0m\u001b[0;34m)\u001b[0m\u001b[0;34m)\u001b[0m\u001b[0;34m\u001b[0m\u001b[0;34m\u001b[0m\u001b[0m\n\u001b[1;32m      3\u001b[0m \u001b[0mprint\u001b[0m\u001b[0;34m(\u001b[0m\u001b[0mvalue\u001b[0m\u001b[0;34m)\u001b[0m\u001b[0;34m\u001b[0m\u001b[0;34m\u001b[0m\u001b[0m\n",
            "\u001b[0;32m/content/spark-3.5.1-bin-hadoop3/python/pyspark/sql/types.py\u001b[0m in \u001b[0;36m__getitem__\u001b[0;34m(self, item)\u001b[0m\n\u001b[1;32m   2358\u001b[0m     \u001b[0;32mdef\u001b[0m \u001b[0m__getitem__\u001b[0m\u001b[0;34m(\u001b[0m\u001b[0mself\u001b[0m\u001b[0;34m,\u001b[0m \u001b[0mitem\u001b[0m\u001b[0;34m:\u001b[0m \u001b[0mAny\u001b[0m\u001b[0;34m)\u001b[0m \u001b[0;34m->\u001b[0m \u001b[0mAny\u001b[0m\u001b[0;34m:\u001b[0m\u001b[0;34m\u001b[0m\u001b[0;34m\u001b[0m\u001b[0m\n\u001b[1;32m   2359\u001b[0m         \u001b[0;32mif\u001b[0m \u001b[0misinstance\u001b[0m\u001b[0;34m(\u001b[0m\u001b[0mitem\u001b[0m\u001b[0;34m,\u001b[0m \u001b[0;34m(\u001b[0m\u001b[0mint\u001b[0m\u001b[0;34m,\u001b[0m \u001b[0mslice\u001b[0m\u001b[0;34m)\u001b[0m\u001b[0;34m)\u001b[0m\u001b[0;34m:\u001b[0m\u001b[0;34m\u001b[0m\u001b[0;34m\u001b[0m\u001b[0m\n\u001b[0;32m-> 2360\u001b[0;31m             \u001b[0;32mreturn\u001b[0m \u001b[0msuper\u001b[0m\u001b[0;34m(\u001b[0m\u001b[0mRow\u001b[0m\u001b[0;34m,\u001b[0m \u001b[0mself\u001b[0m\u001b[0;34m)\u001b[0m\u001b[0;34m.\u001b[0m\u001b[0m__getitem__\u001b[0m\u001b[0;34m(\u001b[0m\u001b[0mitem\u001b[0m\u001b[0;34m)\u001b[0m\u001b[0;34m\u001b[0m\u001b[0;34m\u001b[0m\u001b[0m\n\u001b[0m\u001b[1;32m   2361\u001b[0m         \u001b[0;32mtry\u001b[0m\u001b[0;34m:\u001b[0m\u001b[0;34m\u001b[0m\u001b[0;34m\u001b[0m\u001b[0m\n\u001b[1;32m   2362\u001b[0m             \u001b[0;31m# it will be slow when it has many fields,\u001b[0m\u001b[0;34m\u001b[0m\u001b[0;34m\u001b[0m\u001b[0m\n",
            "\u001b[0;31mIndexError\u001b[0m: tuple index out of range"
          ]
        }
      ],
      "source": [
        "value =rows[1][1]\n",
        "print(type(value))\n",
        "print(value)"
      ]
    },
    {
      "cell_type": "code",
      "execution_count": 45,
      "metadata": {
        "colab": {
          "base_uri": "https://localhost:8080/",
          "height": 297
        },
        "id": "oaeVpHVMBlQS",
        "outputId": "f6d13afb-59b7-4542-d658-1cfc61d01ee1"
      },
      "outputs": [
        {
          "output_type": "error",
          "ename": "IndexError",
          "evalue": "tuple index out of range",
          "traceback": [
            "\u001b[0;31m---------------------------------------------------------------------------\u001b[0m",
            "\u001b[0;31mIndexError\u001b[0m                                Traceback (most recent call last)",
            "\u001b[0;32m<ipython-input-45-a19104f26c71>\u001b[0m in \u001b[0;36m<cell line: 1>\u001b[0;34m()\u001b[0m\n\u001b[0;32m----> 1\u001b[0;31m \u001b[0mvalue\u001b[0m \u001b[0;34m=\u001b[0m\u001b[0mrows\u001b[0m\u001b[0;34m[\u001b[0m\u001b[0;36m0\u001b[0m\u001b[0;34m]\u001b[0m\u001b[0;34m[\u001b[0m\u001b[0;36m1\u001b[0m\u001b[0;34m]\u001b[0m\u001b[0;34m\u001b[0m\u001b[0;34m\u001b[0m\u001b[0m\n\u001b[0m\u001b[1;32m      2\u001b[0m \u001b[0mprint\u001b[0m\u001b[0;34m(\u001b[0m\u001b[0mtype\u001b[0m\u001b[0;34m(\u001b[0m\u001b[0mvalue\u001b[0m\u001b[0;34m)\u001b[0m\u001b[0;34m)\u001b[0m\u001b[0;34m\u001b[0m\u001b[0;34m\u001b[0m\u001b[0m\n\u001b[1;32m      3\u001b[0m \u001b[0mprint\u001b[0m\u001b[0;34m(\u001b[0m\u001b[0mvalue\u001b[0m\u001b[0;34m)\u001b[0m\u001b[0;34m\u001b[0m\u001b[0;34m\u001b[0m\u001b[0m\n",
            "\u001b[0;32m/content/spark-3.5.1-bin-hadoop3/python/pyspark/sql/types.py\u001b[0m in \u001b[0;36m__getitem__\u001b[0;34m(self, item)\u001b[0m\n\u001b[1;32m   2358\u001b[0m     \u001b[0;32mdef\u001b[0m \u001b[0m__getitem__\u001b[0m\u001b[0;34m(\u001b[0m\u001b[0mself\u001b[0m\u001b[0;34m,\u001b[0m \u001b[0mitem\u001b[0m\u001b[0;34m:\u001b[0m \u001b[0mAny\u001b[0m\u001b[0;34m)\u001b[0m \u001b[0;34m->\u001b[0m \u001b[0mAny\u001b[0m\u001b[0;34m:\u001b[0m\u001b[0;34m\u001b[0m\u001b[0;34m\u001b[0m\u001b[0m\n\u001b[1;32m   2359\u001b[0m         \u001b[0;32mif\u001b[0m \u001b[0misinstance\u001b[0m\u001b[0;34m(\u001b[0m\u001b[0mitem\u001b[0m\u001b[0;34m,\u001b[0m \u001b[0;34m(\u001b[0m\u001b[0mint\u001b[0m\u001b[0;34m,\u001b[0m \u001b[0mslice\u001b[0m\u001b[0;34m)\u001b[0m\u001b[0;34m)\u001b[0m\u001b[0;34m:\u001b[0m\u001b[0;34m\u001b[0m\u001b[0;34m\u001b[0m\u001b[0m\n\u001b[0;32m-> 2360\u001b[0;31m             \u001b[0;32mreturn\u001b[0m \u001b[0msuper\u001b[0m\u001b[0;34m(\u001b[0m\u001b[0mRow\u001b[0m\u001b[0;34m,\u001b[0m \u001b[0mself\u001b[0m\u001b[0;34m)\u001b[0m\u001b[0;34m.\u001b[0m\u001b[0m__getitem__\u001b[0m\u001b[0;34m(\u001b[0m\u001b[0mitem\u001b[0m\u001b[0;34m)\u001b[0m\u001b[0;34m\u001b[0m\u001b[0;34m\u001b[0m\u001b[0m\n\u001b[0m\u001b[1;32m   2361\u001b[0m         \u001b[0;32mtry\u001b[0m\u001b[0;34m:\u001b[0m\u001b[0;34m\u001b[0m\u001b[0;34m\u001b[0m\u001b[0m\n\u001b[1;32m   2362\u001b[0m             \u001b[0;31m# it will be slow when it has many fields,\u001b[0m\u001b[0;34m\u001b[0m\u001b[0;34m\u001b[0m\u001b[0m\n",
            "\u001b[0;31mIndexError\u001b[0m: tuple index out of range"
          ]
        }
      ],
      "source": [
        "value =rows[0][1]\n",
        "print(type(value))\n",
        "print(value)"
      ]
    },
    {
      "cell_type": "code",
      "execution_count": 48,
      "metadata": {
        "colab": {
          "base_uri": "https://localhost:8080/"
        },
        "id": "7G8-sYKMBlQS",
        "outputId": "18d404e9-c1d6-4643-ef02-59773651ce2e"
      },
      "outputs": [
        {
          "output_type": "stream",
          "name": "stdout",
          "text": [
            "+------+-----+\n",
            "|Gender|count|\n",
            "+------+-----+\n",
            "|Female|66200|\n",
            "|  Male|83800|\n",
            "+------+-----+\n",
            "\n"
          ]
        }
      ],
      "source": [
        "df3 = df.groupBy(\"Gender\").count().show()"
      ]
    },
    {
      "cell_type": "code",
      "execution_count": 49,
      "metadata": {
        "colab": {
          "base_uri": "https://localhost:8080/"
        },
        "id": "T8MxsM5EBlQS",
        "outputId": "9350e499-092f-470b-89c4-652cdbbd6f83"
      },
      "outputs": [
        {
          "output_type": "stream",
          "name": "stdout",
          "text": [
            "1135.686629870665\n"
          ]
        }
      ],
      "source": [
        "value_1 = rows[0][0]\n",
        "value_2= rows[1][0]\n",
        "percentage_ratio = (value_1 /value_2 ) *100\n",
        "print(percentage_ratio)"
      ]
    },
    {
      "cell_type": "code",
      "execution_count": 61,
      "metadata": {
        "colab": {
          "base_uri": "https://localhost:8080/"
        },
        "id": "y9rdwzmvBlQT",
        "outputId": "816a53a8-a2c5-46aa-8dfa-52cbb57f8ae2"
      },
      "outputs": [
        {
          "output_type": "stream",
          "name": "stdout",
          "text": [
            "56 % male : 44 % female\n"
          ]
        }
      ],
      "source": [
        "rows= df.groupBy(\"Gender\").count().select(\"count\").collect()\n",
        "import math\n",
        "females=rows[0][0]\n",
        "males= rows[1][0]\n",
        "total= males + females\n",
        "percentagemales= round((males/total)*100)\n",
        "percentagefemales= round((females/total)*100)\n",
        "#print(\"Percentage of males :\" + str(percentagemales))\n",
        "#print(\"Percentage of females :\" + str(percentagefemales))\n",
        "\n",
        "print(\"{0:0d} % male : {1:0d} % female\".format(percentagemales,percentagefemales))"
      ]
    },
    {
      "cell_type": "code",
      "source": [
        "rows= df.groupBy(\"Gender\").count().select(\"count\").collect()\n",
        "print(rows)"
      ],
      "metadata": {
        "colab": {
          "base_uri": "https://localhost:8080/"
        },
        "id": "aEoOTYi492P0",
        "outputId": "ea1f37b5-1a23-4792-cc4f-a950da0e316b"
      },
      "execution_count": 63,
      "outputs": [
        {
          "output_type": "stream",
          "name": "stdout",
          "text": [
            "[Row(count=66200), Row(count=83800)]\n"
          ]
        }
      ]
    },
    {
      "cell_type": "code",
      "source": [
        "df.show()"
      ],
      "metadata": {
        "colab": {
          "base_uri": "https://localhost:8080/"
        },
        "id": "hyDwHAbD_zVg",
        "outputId": "2867dd09-cf99-48c5-f0d9-796541d8abe2"
      },
      "execution_count": 64,
      "outputs": [
        {
          "output_type": "stream",
          "name": "stdout",
          "text": [
            "+------+------+------+---+-------+-------+\n",
            "|Number|  City|Gender|Age| Income|Illness|\n",
            "+------+------+------+---+-------+-------+\n",
            "|     1|Dallas|  Male| 41|40367.0|     No|\n",
            "|     2|Dallas|  Male| 54|45084.0|     No|\n",
            "|     3|Dallas|  Male| 42|52483.0|     No|\n",
            "|     4|Dallas|  Male| 40|40941.0|     No|\n",
            "|     5|Dallas|  Male| 46|50289.0|     No|\n",
            "|     6|Dallas|Female| 36|50786.0|     No|\n",
            "|     7|Dallas|Female| 32|33155.0|     No|\n",
            "|     8|Dallas|  Male| 39|30914.0|     No|\n",
            "|     9|Dallas|  Male| 51|68667.0|     No|\n",
            "|    10|Dallas|Female| 30|50082.0|     No|\n",
            "|    11|Dallas|Female| 48|41524.0|    Yes|\n",
            "|    12|Dallas|  Male| 47|54777.0|     No|\n",
            "|    13|Dallas|  Male| 46|62749.0|     No|\n",
            "|    14|Dallas|Female| 42|50894.0|     No|\n",
            "|    15|Dallas|Female| 61|38429.0|     No|\n",
            "|    16|Dallas|  Male| 43|34074.0|     No|\n",
            "|    17|Dallas|  Male| 27|50398.0|     No|\n",
            "|    18|Dallas|  Male| 38|46373.0|    Yes|\n",
            "|    19|Dallas|  Male| 47|51137.0|     No|\n",
            "|    20|Dallas|Female| 35|23688.0|     No|\n",
            "+------+------+------+---+-------+-------+\n",
            "only showing top 20 rows\n",
            "\n"
          ]
        }
      ]
    },
    {
      "cell_type": "code",
      "source": [
        "df.groupBy(df.where(df.Gender == \"Male\")).count().show()"
      ],
      "metadata": {
        "colab": {
          "base_uri": "https://localhost:8080/",
          "height": 321
        },
        "id": "8SPOJLpTBEg6",
        "outputId": "c1b07c14-8119-4f94-e507-07a96b8c942c"
      },
      "execution_count": 65,
      "outputs": [
        {
          "output_type": "error",
          "ename": "PySparkTypeError",
          "evalue": "[NOT_COLUMN_OR_STR] Argument `col` should be a Column or str, got DataFrame.",
          "traceback": [
            "\u001b[0;31m---------------------------------------------------------------------------\u001b[0m",
            "\u001b[0;31mPySparkTypeError\u001b[0m                          Traceback (most recent call last)",
            "\u001b[0;32m<ipython-input-65-c2eab894b8c3>\u001b[0m in \u001b[0;36m<cell line: 1>\u001b[0;34m()\u001b[0m\n\u001b[0;32m----> 1\u001b[0;31m \u001b[0mdf\u001b[0m\u001b[0;34m.\u001b[0m\u001b[0mgroupBy\u001b[0m\u001b[0;34m(\u001b[0m\u001b[0mdf\u001b[0m\u001b[0;34m.\u001b[0m\u001b[0mwhere\u001b[0m\u001b[0;34m(\u001b[0m\u001b[0mdf\u001b[0m\u001b[0;34m.\u001b[0m\u001b[0mGender\u001b[0m \u001b[0;34m==\u001b[0m \u001b[0;34m\"Male\"\u001b[0m\u001b[0;34m)\u001b[0m\u001b[0;34m)\u001b[0m\u001b[0;34m.\u001b[0m\u001b[0mcount\u001b[0m\u001b[0;34m(\u001b[0m\u001b[0;34m)\u001b[0m\u001b[0;34m.\u001b[0m\u001b[0mshow\u001b[0m\u001b[0;34m(\u001b[0m\u001b[0;34m)\u001b[0m\u001b[0;34m\u001b[0m\u001b[0;34m\u001b[0m\u001b[0m\n\u001b[0m",
            "\u001b[0;32m/content/spark-3.5.1-bin-hadoop3/python/pyspark/sql/dataframe.py\u001b[0m in \u001b[0;36mgroupBy\u001b[0;34m(self, *cols)\u001b[0m\n\u001b[1;32m   3412\u001b[0m         \u001b[0;34m+\u001b[0m\u001b[0;34m-\u001b[0m\u001b[0;34m-\u001b[0m\u001b[0;34m-\u001b[0m\u001b[0;34m-\u001b[0m\u001b[0;34m-\u001b[0m\u001b[0;34m+\u001b[0m\u001b[0;34m-\u001b[0m\u001b[0;34m-\u001b[0m\u001b[0;34m-\u001b[0m\u001b[0;34m+\u001b[0m\u001b[0;34m-\u001b[0m\u001b[0;34m-\u001b[0m\u001b[0;34m-\u001b[0m\u001b[0;34m-\u001b[0m\u001b[0;34m-\u001b[0m\u001b[0;34m+\u001b[0m\u001b[0;34m\u001b[0m\u001b[0;34m\u001b[0m\u001b[0m\n\u001b[1;32m   3413\u001b[0m         \"\"\"\n\u001b[0;32m-> 3414\u001b[0;31m         \u001b[0mjgd\u001b[0m \u001b[0;34m=\u001b[0m \u001b[0mself\u001b[0m\u001b[0;34m.\u001b[0m\u001b[0m_jdf\u001b[0m\u001b[0;34m.\u001b[0m\u001b[0mgroupBy\u001b[0m\u001b[0;34m(\u001b[0m\u001b[0mself\u001b[0m\u001b[0;34m.\u001b[0m\u001b[0m_jcols\u001b[0m\u001b[0;34m(\u001b[0m\u001b[0;34m*\u001b[0m\u001b[0mcols\u001b[0m\u001b[0;34m)\u001b[0m\u001b[0;34m)\u001b[0m\u001b[0;34m\u001b[0m\u001b[0;34m\u001b[0m\u001b[0m\n\u001b[0m\u001b[1;32m   3415\u001b[0m         \u001b[0;32mfrom\u001b[0m \u001b[0mpyspark\u001b[0m\u001b[0;34m.\u001b[0m\u001b[0msql\u001b[0m\u001b[0;34m.\u001b[0m\u001b[0mgroup\u001b[0m \u001b[0;32mimport\u001b[0m \u001b[0mGroupedData\u001b[0m\u001b[0;34m\u001b[0m\u001b[0;34m\u001b[0m\u001b[0m\n\u001b[1;32m   3416\u001b[0m \u001b[0;34m\u001b[0m\u001b[0m\n",
            "\u001b[0;32m/content/spark-3.5.1-bin-hadoop3/python/pyspark/sql/dataframe.py\u001b[0m in \u001b[0;36m_jcols\u001b[0;34m(self, *cols)\u001b[0m\n\u001b[1;32m   2762\u001b[0m         \u001b[0;32mif\u001b[0m \u001b[0mlen\u001b[0m\u001b[0;34m(\u001b[0m\u001b[0mcols\u001b[0m\u001b[0;34m)\u001b[0m \u001b[0;34m==\u001b[0m \u001b[0;36m1\u001b[0m \u001b[0;32mand\u001b[0m \u001b[0misinstance\u001b[0m\u001b[0;34m(\u001b[0m\u001b[0mcols\u001b[0m\u001b[0;34m[\u001b[0m\u001b[0;36m0\u001b[0m\u001b[0;34m]\u001b[0m\u001b[0;34m,\u001b[0m \u001b[0mlist\u001b[0m\u001b[0;34m)\u001b[0m\u001b[0;34m:\u001b[0m\u001b[0;34m\u001b[0m\u001b[0;34m\u001b[0m\u001b[0m\n\u001b[1;32m   2763\u001b[0m             \u001b[0mcols\u001b[0m \u001b[0;34m=\u001b[0m \u001b[0mcols\u001b[0m\u001b[0;34m[\u001b[0m\u001b[0;36m0\u001b[0m\u001b[0;34m]\u001b[0m\u001b[0;34m\u001b[0m\u001b[0;34m\u001b[0m\u001b[0m\n\u001b[0;32m-> 2764\u001b[0;31m         \u001b[0;32mreturn\u001b[0m \u001b[0mself\u001b[0m\u001b[0;34m.\u001b[0m\u001b[0m_jseq\u001b[0m\u001b[0;34m(\u001b[0m\u001b[0mcols\u001b[0m\u001b[0;34m,\u001b[0m \u001b[0m_to_java_column\u001b[0m\u001b[0;34m)\u001b[0m\u001b[0;34m\u001b[0m\u001b[0;34m\u001b[0m\u001b[0m\n\u001b[0m\u001b[1;32m   2765\u001b[0m \u001b[0;34m\u001b[0m\u001b[0m\n\u001b[1;32m   2766\u001b[0m     def _sort_cols(\n",
            "\u001b[0;32m/content/spark-3.5.1-bin-hadoop3/python/pyspark/sql/dataframe.py\u001b[0m in \u001b[0;36m_jseq\u001b[0;34m(self, cols, converter)\u001b[0m\n\u001b[1;32m   2749\u001b[0m     ) -> JavaObject:\n\u001b[1;32m   2750\u001b[0m         \u001b[0;34m\"\"\"Return a JVM Seq of Columns from a list of Column or names\"\"\"\u001b[0m\u001b[0;34m\u001b[0m\u001b[0;34m\u001b[0m\u001b[0m\n\u001b[0;32m-> 2751\u001b[0;31m         \u001b[0;32mreturn\u001b[0m \u001b[0m_to_seq\u001b[0m\u001b[0;34m(\u001b[0m\u001b[0mself\u001b[0m\u001b[0;34m.\u001b[0m\u001b[0msparkSession\u001b[0m\u001b[0;34m.\u001b[0m\u001b[0m_sc\u001b[0m\u001b[0;34m,\u001b[0m \u001b[0mcols\u001b[0m\u001b[0;34m,\u001b[0m \u001b[0mconverter\u001b[0m\u001b[0;34m)\u001b[0m\u001b[0;34m\u001b[0m\u001b[0;34m\u001b[0m\u001b[0m\n\u001b[0m\u001b[1;32m   2752\u001b[0m \u001b[0;34m\u001b[0m\u001b[0m\n\u001b[1;32m   2753\u001b[0m     \u001b[0;32mdef\u001b[0m \u001b[0m_jmap\u001b[0m\u001b[0;34m(\u001b[0m\u001b[0mself\u001b[0m\u001b[0;34m,\u001b[0m \u001b[0mjm\u001b[0m\u001b[0;34m:\u001b[0m \u001b[0mDict\u001b[0m\u001b[0;34m)\u001b[0m \u001b[0;34m->\u001b[0m \u001b[0mJavaObject\u001b[0m\u001b[0;34m:\u001b[0m\u001b[0;34m\u001b[0m\u001b[0;34m\u001b[0m\u001b[0m\n",
            "\u001b[0;32m/content/spark-3.5.1-bin-hadoop3/python/pyspark/sql/column.py\u001b[0m in \u001b[0;36m_to_seq\u001b[0;34m(sc, cols, converter)\u001b[0m\n\u001b[1;32m     86\u001b[0m     \"\"\"\n\u001b[1;32m     87\u001b[0m     \u001b[0;32mif\u001b[0m \u001b[0mconverter\u001b[0m\u001b[0;34m:\u001b[0m\u001b[0;34m\u001b[0m\u001b[0;34m\u001b[0m\u001b[0m\n\u001b[0;32m---> 88\u001b[0;31m         \u001b[0mcols\u001b[0m \u001b[0;34m=\u001b[0m \u001b[0;34m[\u001b[0m\u001b[0mconverter\u001b[0m\u001b[0;34m(\u001b[0m\u001b[0mc\u001b[0m\u001b[0;34m)\u001b[0m \u001b[0;32mfor\u001b[0m \u001b[0mc\u001b[0m \u001b[0;32min\u001b[0m \u001b[0mcols\u001b[0m\u001b[0;34m]\u001b[0m\u001b[0;34m\u001b[0m\u001b[0;34m\u001b[0m\u001b[0m\n\u001b[0m\u001b[1;32m     89\u001b[0m     \u001b[0;32massert\u001b[0m \u001b[0msc\u001b[0m\u001b[0;34m.\u001b[0m\u001b[0m_jvm\u001b[0m \u001b[0;32mis\u001b[0m \u001b[0;32mnot\u001b[0m \u001b[0;32mNone\u001b[0m\u001b[0;34m\u001b[0m\u001b[0;34m\u001b[0m\u001b[0m\n\u001b[1;32m     90\u001b[0m     \u001b[0;32mreturn\u001b[0m \u001b[0msc\u001b[0m\u001b[0;34m.\u001b[0m\u001b[0m_jvm\u001b[0m\u001b[0;34m.\u001b[0m\u001b[0mPythonUtils\u001b[0m\u001b[0;34m.\u001b[0m\u001b[0mtoSeq\u001b[0m\u001b[0;34m(\u001b[0m\u001b[0mcols\u001b[0m\u001b[0;34m)\u001b[0m\u001b[0;34m\u001b[0m\u001b[0;34m\u001b[0m\u001b[0m\n",
            "\u001b[0;32m/content/spark-3.5.1-bin-hadoop3/python/pyspark/sql/column.py\u001b[0m in \u001b[0;36m<listcomp>\u001b[0;34m(.0)\u001b[0m\n\u001b[1;32m     86\u001b[0m     \"\"\"\n\u001b[1;32m     87\u001b[0m     \u001b[0;32mif\u001b[0m \u001b[0mconverter\u001b[0m\u001b[0;34m:\u001b[0m\u001b[0;34m\u001b[0m\u001b[0;34m\u001b[0m\u001b[0m\n\u001b[0;32m---> 88\u001b[0;31m         \u001b[0mcols\u001b[0m \u001b[0;34m=\u001b[0m \u001b[0;34m[\u001b[0m\u001b[0mconverter\u001b[0m\u001b[0;34m(\u001b[0m\u001b[0mc\u001b[0m\u001b[0;34m)\u001b[0m \u001b[0;32mfor\u001b[0m \u001b[0mc\u001b[0m \u001b[0;32min\u001b[0m \u001b[0mcols\u001b[0m\u001b[0;34m]\u001b[0m\u001b[0;34m\u001b[0m\u001b[0;34m\u001b[0m\u001b[0m\n\u001b[0m\u001b[1;32m     89\u001b[0m     \u001b[0;32massert\u001b[0m \u001b[0msc\u001b[0m\u001b[0;34m.\u001b[0m\u001b[0m_jvm\u001b[0m \u001b[0;32mis\u001b[0m \u001b[0;32mnot\u001b[0m \u001b[0;32mNone\u001b[0m\u001b[0;34m\u001b[0m\u001b[0;34m\u001b[0m\u001b[0m\n\u001b[1;32m     90\u001b[0m     \u001b[0;32mreturn\u001b[0m \u001b[0msc\u001b[0m\u001b[0;34m.\u001b[0m\u001b[0m_jvm\u001b[0m\u001b[0;34m.\u001b[0m\u001b[0mPythonUtils\u001b[0m\u001b[0;34m.\u001b[0m\u001b[0mtoSeq\u001b[0m\u001b[0;34m(\u001b[0m\u001b[0mcols\u001b[0m\u001b[0;34m)\u001b[0m\u001b[0;34m\u001b[0m\u001b[0;34m\u001b[0m\u001b[0m\n",
            "\u001b[0;32m/content/spark-3.5.1-bin-hadoop3/python/pyspark/sql/column.py\u001b[0m in \u001b[0;36m_to_java_column\u001b[0;34m(col)\u001b[0m\n\u001b[1;32m     63\u001b[0m         \u001b[0mjcol\u001b[0m \u001b[0;34m=\u001b[0m \u001b[0m_create_column_from_name\u001b[0m\u001b[0;34m(\u001b[0m\u001b[0mcol\u001b[0m\u001b[0;34m)\u001b[0m\u001b[0;34m\u001b[0m\u001b[0;34m\u001b[0m\u001b[0m\n\u001b[1;32m     64\u001b[0m     \u001b[0;32melse\u001b[0m\u001b[0;34m:\u001b[0m\u001b[0;34m\u001b[0m\u001b[0;34m\u001b[0m\u001b[0m\n\u001b[0;32m---> 65\u001b[0;31m         raise PySparkTypeError(\n\u001b[0m\u001b[1;32m     66\u001b[0m             \u001b[0merror_class\u001b[0m\u001b[0;34m=\u001b[0m\u001b[0;34m\"NOT_COLUMN_OR_STR\"\u001b[0m\u001b[0;34m,\u001b[0m\u001b[0;34m\u001b[0m\u001b[0;34m\u001b[0m\u001b[0m\n\u001b[1;32m     67\u001b[0m             \u001b[0mmessage_parameters\u001b[0m\u001b[0;34m=\u001b[0m\u001b[0;34m{\u001b[0m\u001b[0;34m\"arg_name\"\u001b[0m\u001b[0;34m:\u001b[0m \u001b[0;34m\"col\"\u001b[0m\u001b[0;34m,\u001b[0m \u001b[0;34m\"arg_type\"\u001b[0m\u001b[0;34m:\u001b[0m \u001b[0mtype\u001b[0m\u001b[0;34m(\u001b[0m\u001b[0mcol\u001b[0m\u001b[0;34m)\u001b[0m\u001b[0;34m.\u001b[0m\u001b[0m__name__\u001b[0m\u001b[0;34m}\u001b[0m\u001b[0;34m,\u001b[0m\u001b[0;34m\u001b[0m\u001b[0;34m\u001b[0m\u001b[0m\n",
            "\u001b[0;31mPySparkTypeError\u001b[0m: [NOT_COLUMN_OR_STR] Argument `col` should be a Column or str, got DataFrame."
          ]
        }
      ]
    },
    {
      "cell_type": "code",
      "source": [
        "df2= df.where(df.Illness == \"Yes\").groupBy(df.Gender).count()\n",
        "df2.show()"
      ],
      "metadata": {
        "colab": {
          "base_uri": "https://localhost:8080/"
        },
        "id": "ehBu-TpPBp1_",
        "outputId": "2c28ae13-322e-4d37-d339-4708b9cb9ba4"
      },
      "execution_count": 67,
      "outputs": [
        {
          "output_type": "stream",
          "name": "stdout",
          "text": [
            "+------+-----+\n",
            "|Gender|count|\n",
            "+------+-----+\n",
            "|Female| 5331|\n",
            "|  Male| 6808|\n",
            "+------+-----+\n",
            "\n"
          ]
        }
      ]
    },
    {
      "cell_type": "code",
      "source": [
        "df3= df.where(df.Illness == \"Yes\").groupBy(df.City).count()\n",
        "df3.show()"
      ],
      "metadata": {
        "colab": {
          "base_uri": "https://localhost:8080/"
        },
        "id": "a1yKerPICFlC",
        "outputId": "6a3e3424-224a-4a33-e83e-e26966fb15e2"
      },
      "execution_count": 68,
      "outputs": [
        {
          "output_type": "stream",
          "name": "stdout",
          "text": [
            "+---------------+-----+\n",
            "|           City|count|\n",
            "+---------------+-----+\n",
            "|         Dallas| 1613|\n",
            "|    Los Angeles| 2568|\n",
            "|  New York City| 4021|\n",
            "|Washington D.C.|  668|\n",
            "|  Mountain View| 1178|\n",
            "|         Boston|  686|\n",
            "|      San Diego|  394|\n",
            "|         Austin| 1011|\n",
            "+---------------+-----+\n",
            "\n"
          ]
        }
      ]
    },
    {
      "cell_type": "code",
      "source": [
        "from pyspark.sql.functions import col,asc,desc\n",
        "df2= df.where(df.Illness == \"Yes\").groupBy(df.City).count().orderBy(col(\"count\").desc())\n",
        "df2.take(1)\n"
      ],
      "metadata": {
        "colab": {
          "base_uri": "https://localhost:8080/"
        },
        "id": "D0T7-lnPCcA-",
        "outputId": "2a0dd6a8-0d0c-4fe8-d712-e3b0f4516783"
      },
      "execution_count": 74,
      "outputs": [
        {
          "output_type": "execute_result",
          "data": {
            "text/plain": [
              "[Row(City='New York City', count=4021)]"
            ]
          },
          "metadata": {},
          "execution_count": 74
        }
      ]
    },
    {
      "cell_type": "code",
      "source": [
        "from pyspark.sql.functions import mean"
      ],
      "metadata": {
        "id": "sPasyYYRCuDq"
      },
      "execution_count": 75,
      "outputs": []
    },
    {
      "cell_type": "code",
      "source": [
        "df.filter(df.Illness ==\"Yes\").select(mean(\"Income\")).show()"
      ],
      "metadata": {
        "colab": {
          "base_uri": "https://localhost:8080/"
        },
        "id": "mRYg7r8_DLRw",
        "outputId": "c4d569d2-80e2-46da-eb28-0e2a6a087a26"
      },
      "execution_count": 77,
      "outputs": [
        {
          "output_type": "stream",
          "name": "stdout",
          "text": [
            "+----------------+\n",
            "|     avg(Income)|\n",
            "+----------------+\n",
            "|91277.8753604086|\n",
            "+----------------+\n",
            "\n"
          ]
        }
      ]
    },
    {
      "cell_type": "code",
      "source": [
        "averagehealthy=df.filter(df.Illness ==\"No\").select(mean(\"Income\")).withColumnRenamed(\"avg(Income)\",\"Mean Healthy Income\")\n",
        "averageill = df.filter(df.Illness ==\"Yes\").select(mean(\"Income\")).withColumnRenamed(\"avg(Income)\",\"Mean Non Healthy Income\")\n",
        "averagehealthy.join(averageill).show(vertical=True)"
      ],
      "metadata": {
        "colab": {
          "base_uri": "https://localhost:8080/"
        },
        "id": "NxEiymfODY2y",
        "outputId": "93328a51-ecf0-48ed-c813-bb9cd796d3ce"
      },
      "execution_count": 84,
      "outputs": [
        {
          "output_type": "stream",
          "name": "stdout",
          "text": [
            "-RECORD 0------------------------------------\n",
            " Mean Healthy Income     | 91250.59017416093 \n",
            " Mean Non Healthy Income | 91277.8753604086  \n",
            "\n"
          ]
        }
      ]
    },
    {
      "cell_type": "code",
      "source": [
        "df.filter(df.Illness==\"Yes\").select(\"Age\").summary().show()"
      ],
      "metadata": {
        "colab": {
          "base_uri": "https://localhost:8080/"
        },
        "id": "ynrdl5VKDj9U",
        "outputId": "2d0e6f47-47ae-4859-aa75-2b262ea91b88"
      },
      "execution_count": 91,
      "outputs": [
        {
          "output_type": "stream",
          "name": "stdout",
          "text": [
            "+-------+------------------+\n",
            "|summary|               Age|\n",
            "+-------+------------------+\n",
            "|  count|             12139|\n",
            "|   mean| 45.02084191449048|\n",
            "| stddev|11.554129904969155|\n",
            "|    min|                25|\n",
            "|    25%|                35|\n",
            "|    50%|                45|\n",
            "|    75%|                55|\n",
            "|    max|                65|\n",
            "+-------+------------------+\n",
            "\n"
          ]
        }
      ]
    },
    {
      "cell_type": "code",
      "source": [
        "df2 = df.where(\"Illness == 'No'\").groupBy(df.City,df.Age).count().orderBy(col(\"Age\").desc())\n",
        "df2.show()"
      ],
      "metadata": {
        "colab": {
          "base_uri": "https://localhost:8080/"
        },
        "id": "AwBexuPfE6yq",
        "outputId": "ba8132d2-55b2-474a-dd7b-11b780ff595b"
      },
      "execution_count": 96,
      "outputs": [
        {
          "output_type": "stream",
          "name": "stdout",
          "text": [
            "+---------------+---+-----+\n",
            "|           City|Age|count|\n",
            "+---------------+---+-----+\n",
            "|         Boston| 65|   99|\n",
            "|  Mountain View| 65|  174|\n",
            "|  New York City| 65|  577|\n",
            "|    Los Angeles| 65|  347|\n",
            "|Washington D.C.| 65|   77|\n",
            "|         Dallas| 65|  252|\n",
            "|      San Diego| 65|   52|\n",
            "|         Austin| 65|  141|\n",
            "|         Boston| 64|  236|\n",
            "|  New York City| 64| 1169|\n",
            "|Washington D.C.| 64|  194|\n",
            "|    Los Angeles| 64|  755|\n",
            "|  Mountain View| 64|  363|\n",
            "|         Dallas| 64|  455|\n",
            "|      San Diego| 64|  108|\n",
            "|         Austin| 64|  279|\n",
            "|         Dallas| 63|  451|\n",
            "|Washington D.C.| 63|  188|\n",
            "|         Boston| 63|  204|\n",
            "|  Mountain View| 63|  313|\n",
            "+---------------+---+-----+\n",
            "only showing top 20 rows\n",
            "\n"
          ]
        }
      ]
    },
    {
      "cell_type": "code",
      "source": [
        "df.filter(df.Illness==\"No\").sort(col(\"Age\").desc()).show()"
      ],
      "metadata": {
        "colab": {
          "base_uri": "https://localhost:8080/"
        },
        "id": "ZGDqU371GBBA",
        "outputId": "d7ac815d-8440-4262-c189-a195d970dfbb"
      },
      "execution_count": 97,
      "outputs": [
        {
          "output_type": "stream",
          "name": "stdout",
          "text": [
            "+------+---------------+------+---+-------+-------+\n",
            "|Number|           City|Gender|Age| Income|Illness|\n",
            "+------+---------------+------+---+-------+-------+\n",
            "|130010|Washington D.C.|Female| 65|57299.0|     No|\n",
            "|   834|         Dallas|  Male| 65|49903.0|     No|\n",
            "|131747|Washington D.C.|Female| 65|71856.0|     No|\n",
            "|  2504|         Dallas|Female| 65|38583.0|     No|\n",
            "|130029|Washington D.C.|Female| 65|78606.0|     No|\n",
            "|   990|         Dallas|Female| 65|49281.0|     No|\n",
            "|129592|Washington D.C.|Female| 65|80260.0|     No|\n",
            "|   134|         Dallas|Female| 65|33676.0|     No|\n",
            "|130053|Washington D.C.|Female| 65|61441.0|     No|\n",
            "|  1045|         Dallas|  Male| 65|78511.0|     No|\n",
            "|129872|Washington D.C.|  Male| 65|71274.0|     No|\n",
            "|   318|         Dallas|Female| 65|22225.0|     No|\n",
            "|130066|Washington D.C.|  Male| 65|78831.0|     No|\n",
            "|  1139|         Dallas|Female| 65|43044.0|     No|\n",
            "|129914|Washington D.C.|  Male| 65|53705.0|     No|\n",
            "|   177|         Dallas|Female| 65|50311.0|     No|\n",
            "|130104|Washington D.C.|  Male| 65|76877.0|     No|\n",
            "|  1179|         Dallas|  Male| 65|39217.0|     No|\n",
            "|130911|Washington D.C.|  Male| 65|85846.0|     No|\n",
            "|   512|         Dallas|Female| 65|35905.0|     No|\n",
            "+------+---------------+------+---+-------+-------+\n",
            "only showing top 20 rows\n",
            "\n"
          ]
        }
      ]
    },
    {
      "cell_type": "code",
      "source": [
        "from pyspark.sql.functions import max\n",
        "df.select(max(\"Age\")).show()"
      ],
      "metadata": {
        "colab": {
          "base_uri": "https://localhost:8080/"
        },
        "id": "5BEhW1ZHG2cj",
        "outputId": "ebd88b95-3e68-4603-f040-d4d668b57454"
      },
      "execution_count": 98,
      "outputs": [
        {
          "output_type": "stream",
          "name": "stdout",
          "text": [
            "+--------+\n",
            "|max(Age)|\n",
            "+--------+\n",
            "|      65|\n",
            "+--------+\n",
            "\n"
          ]
        }
      ]
    },
    {
      "cell_type": "code",
      "source": [],
      "metadata": {
        "id": "JQo0II8vHa9E"
      },
      "execution_count": null,
      "outputs": []
    }
  ],
  "metadata": {
    "kernelspec": {
      "display_name": "Python 3",
      "language": "python",
      "name": "python3"
    },
    "language_info": {
      "codemirror_mode": {
        "name": "ipython",
        "version": 3
      },
      "file_extension": ".py",
      "mimetype": "text/x-python",
      "name": "python",
      "nbconvert_exporter": "python",
      "pygments_lexer": "ipython3",
      "version": "3.12.7"
    },
    "colab": {
      "provenance": [],
      "include_colab_link": true
    }
  },
  "nbformat": 4,
  "nbformat_minor": 0
}